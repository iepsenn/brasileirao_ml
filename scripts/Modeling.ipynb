{
 "cells": [
  {
   "cell_type": "code",
   "execution_count": 187,
   "metadata": {},
   "outputs": [],
   "source": [
    "import pandas as pd\n",
    "import numpy as np\n",
    "import pickle\n",
    "import os\n",
    "\n",
    "from xgboost import XGBRegressor\n",
    "from xgboost import plot_importance\n",
    "from sklearn.model_selection import train_test_split\n",
    "from sklearn.metrics import accuracy_score\n",
    "from sklearn.metrics import mean_absolute_error"
   ]
  },
  {
   "cell_type": "code",
   "execution_count": 188,
   "metadata": {},
   "outputs": [],
   "source": [
    "df = pd.read_csv('../data/serieA_matches.csv')\n",
    "df_all_matches = pd.read_csv('../data/2020_all_matches.csv')"
   ]
  },
  {
   "cell_type": "code",
   "execution_count": 189,
   "metadata": {},
   "outputs": [
    {
     "name": "stdout",
     "output_type": "stream",
     "text": [
      "CPU times: user 4.31 ms, sys: 6 µs, total: 4.32 ms\n",
      "Wall time: 4.1 ms\n"
     ]
    }
   ],
   "source": [
    "%%time\n",
    "\n",
    "home_teams = df_all_matches[['Home', 'Venue']].drop_duplicates().values\n",
    "team_stadium = {}\n",
    "for data in home_teams:\n",
    "     team_stadium[data[0]] = data[1]"
   ]
  },
  {
   "cell_type": "code",
   "execution_count": 190,
   "metadata": {},
   "outputs": [
    {
     "name": "stdout",
     "output_type": "stream",
     "text": [
      "CPU times: user 3.07 ms, sys: 59 µs, total: 3.13 ms\n",
      "Wall time: 2.58 ms\n"
     ]
    }
   ],
   "source": [
    "%%time\n",
    "\n",
    "team_dict = {}\n",
    "for idx, team in enumerate(df['team'].unique()):\n",
    "    team_dict[team] = idx"
   ]
  },
  {
   "cell_type": "code",
   "execution_count": 191,
   "metadata": {},
   "outputs": [],
   "source": [
    "df['is_home'] = team_stadium[df['team'].iloc[0]]\n",
    "df['is_home'] = df['stadium'] == df['is_home']\n",
    "df['is_home'] = df['is_home'].astype(int)"
   ]
  },
  {
   "cell_type": "code",
   "execution_count": 192,
   "metadata": {},
   "outputs": [
    {
     "data": {
      "text/plain": [
       "team       object\n",
       "result     object\n",
       "stadium    object\n",
       "state      object\n",
       "UF         object\n",
       "date       object\n",
       "time       object\n",
       "dtype: object"
      ]
     },
     "execution_count": 192,
     "metadata": {},
     "output_type": "execute_result"
    }
   ],
   "source": [
    "cols_types = df.dtypes\n",
    "cols_types[cols_types == object]"
   ]
  },
  {
   "cell_type": "code",
   "execution_count": 193,
   "metadata": {},
   "outputs": [],
   "source": [
    "df['time'] = df['time'].apply(lambda time: time.split(':')[0]).astype(int)"
   ]
  },
  {
   "cell_type": "code",
   "execution_count": 194,
   "metadata": {},
   "outputs": [],
   "source": [
    "cols_to_remove = [\n",
    "    'result',\n",
    "    \"date\",\n",
    "    \"stadium\",\n",
    "    \"state\",\n",
    "    \"UF\",\n",
    "]\n",
    "y_col = 'score'"
   ]
  },
  {
   "cell_type": "code",
   "execution_count": 195,
   "metadata": {},
   "outputs": [],
   "source": [
    "df.drop(columns=cols_to_remove, inplace=True)"
   ]
  },
  {
   "cell_type": "code",
   "execution_count": 196,
   "metadata": {},
   "outputs": [],
   "source": [
    "feature_cols = [col for col in df.columns if col not in cols_to_remove]"
   ]
  },
  {
   "cell_type": "code",
   "execution_count": 197,
   "metadata": {},
   "outputs": [],
   "source": [
    "df_home_teams = pd.DataFrame()\n",
    "df_adversary_teams = pd.DataFrame()\n",
    "\n",
    "df_teams = pd.DataFrame()\n",
    "for team in df['team'].unique():\n",
    "    cols_to_drop = ['is_home', 'team', 'score']\n",
    "    unique_cols = ['match_id', 'matchweek', 'time', 'year']\n",
    "    \n",
    "    df_team = df[df['team'] == team].copy().reset_index(drop=True)\n",
    "    df_others_teams = df[\n",
    "        (df['team'] != team) &\n",
    "        (df['match_id'].isin(df_team['match_id'].tolist()))\n",
    "    ].copy().reset_index(drop=True)\n",
    "    \n",
    "    columns = [col for col in df_team if col not in cols_to_drop]\n",
    "    df_team.loc[df_team.index >= 3, columns] = (\n",
    "        df_team[columns]\n",
    "        .shift(1)\n",
    "        .rolling(3)\n",
    "        .mean()\n",
    "        .iloc[3:]\n",
    "    )\n",
    "\n",
    "    df_others_teams.loc[df_others_teams.index >= 3, columns] = (\n",
    "        df_team[columns]\n",
    "        .shift(1)\n",
    "        .rolling(3)\n",
    "        .mean()\n",
    "        .iloc[3:]\n",
    "    )\n",
    "\n",
    "    df_others_teams.drop(columns=cols_to_drop, inplace=True)\n",
    "    df_others_teams.columns = [\n",
    "        col + '_adversary' if col not in unique_cols else col for col in df_others_teams.columns\n",
    "    ]\n",
    "    \n",
    "    for col in [column for column in df_others_teams.columns if column.endswith('adversary')]:\n",
    "        df_team[col] = df_others_teams[col]"
   ]
  },
  {
   "cell_type": "code",
   "execution_count": 198,
   "metadata": {},
   "outputs": [],
   "source": [
    "df_teams = df_team"
   ]
  },
  {
   "cell_type": "code",
   "execution_count": 199,
   "metadata": {},
   "outputs": [],
   "source": [
    "df_teams = df_teams[~df_teams['team'].isna()].copy()"
   ]
  },
  {
   "cell_type": "code",
   "execution_count": 200,
   "metadata": {},
   "outputs": [],
   "source": [
    "df_teams['team'] = df_teams['team'].apply(lambda team: team_dict[team])"
   ]
  },
  {
   "cell_type": "code",
   "execution_count": 201,
   "metadata": {},
   "outputs": [],
   "source": [
    "df_teams['score'].fillna(-1, inplace=True)\n",
    "df_teams = df_teams[df_teams['score'] != -1]\n",
    "df_teams['score'] = df_teams['score'].astype(int)"
   ]
  },
  {
   "cell_type": "code",
   "execution_count": 202,
   "metadata": {},
   "outputs": [],
   "source": [
    "X = df_teams.drop(columns=['score'])\n",
    "Y = df_teams['score']"
   ]
  },
  {
   "cell_type": "code",
   "execution_count": 203,
   "metadata": {},
   "outputs": [],
   "source": [
    "def mean_absolute_percentage_error(y_true, y_pred): \n",
    "    y_true = np.array(y_true)\n",
    "    y_pred = np.array(y_pred)\n",
    "    \n",
    "    difference = list(np.abs((y_true - y_pred) / y_true))\n",
    "    difference = [diff if diff != np.inf and not pd.isnull(diff) else 0 for diff in difference]\n",
    "    return np.mean(difference)\n"
   ]
  },
  {
   "cell_type": "code",
   "execution_count": 204,
   "metadata": {},
   "outputs": [],
   "source": [
    "def bias_percentage(y_true, y_pred): \n",
    "    y_true = np.array(y_true)\n",
    "    y_pred = np.array(y_pred)\n",
    "    \n",
    "    return  np.sum(y_pred) / np.sum(y_true)"
   ]
  },
  {
   "cell_type": "code",
   "execution_count": 205,
   "metadata": {},
   "outputs": [],
   "source": [
    "X.sort_values(['matchweek', 'team', 'year'], inplace=True)\n",
    "X_new = X"
   ]
  },
  {
   "cell_type": "code",
   "execution_count": 206,
   "metadata": {},
   "outputs": [],
   "source": [
    "n_cols = 50"
   ]
  },
  {
   "cell_type": "code",
   "execution_count": 207,
   "metadata": {},
   "outputs": [],
   "source": [
    "X_train, X_test, y_train, y_test = train_test_split(X_new, Y, test_size=0.1, random_state=7)"
   ]
  },
  {
   "cell_type": "code",
   "execution_count": 208,
   "metadata": {},
   "outputs": [
    {
     "name": "stdout",
     "output_type": "stream",
     "text": [
      "MAPE with 50 columns: 12.50%\n",
      "MAE with 50 columns: 0.17\n",
      "BIAS% with 50 columns: 93.33%\n"
     ]
    },
    {
     "name": "stderr",
     "output_type": "stream",
     "text": [
      "<ipython-input-203-70d46a524b4a>:5: RuntimeWarning: invalid value encountered in true_divide\n",
      "  difference = list(np.abs((y_true - y_pred) / y_true))\n"
     ]
    }
   ],
   "source": [
    "from sklearn.metrics import mean_absolute_error\n",
    "\n",
    "model = XGBRegressor()\n",
    "\n",
    "model.fit(X_train, y_train)\n",
    "\n",
    "y_pred = list(model.predict(X_test))\n",
    "predictions = list([round(value) for value in y_pred])\n",
    "\n",
    "# evaluate predictions\n",
    "mape = mean_absolute_percentage_error(y_test, predictions)\n",
    "mae = mean_absolute_error(y_test, predictions)\n",
    "bias_percent = bias_percentage(y_test, predictions)\n",
    "\n",
    "print(\"MAPE with {} columns: {:.2f}%\".format(n_cols, mape * 100.0))\n",
    "print(\"MAE with {} columns: {:.2f}\".format(n_cols, mae))\n",
    "print(\"BIAS% with {} columns: {:.2f}%\".format(n_cols, bias_percent * 100))\n"
   ]
  },
  {
   "cell_type": "markdown",
   "metadata": {},
   "source": [
    "# =================================================="
   ]
  },
  {
   "cell_type": "code",
   "execution_count": 209,
   "metadata": {},
   "outputs": [],
   "source": [
    "match_per_round = df['matchweek'].value_counts().to_frame()\n",
    "last_matchweek = match_per_round[match_per_round > 5].sort_values('matchweek', ascending=False).iloc[0].name"
   ]
  },
  {
   "cell_type": "code",
   "execution_count": 210,
   "metadata": {},
   "outputs": [],
   "source": [
    "next_matches = df_all_matches"
   ]
  },
  {
   "cell_type": "code",
   "execution_count": 211,
   "metadata": {},
   "outputs": [
    {
     "name": "stderr",
     "output_type": "stream",
     "text": [
      "<ipython-input-211-4b5007b19b6a>:3: SettingWithCopyWarning: \n",
      "A value is trying to be set on a copy of a slice from a DataFrame.\n",
      "Try using .loc[row_indexer,col_indexer] = value instead\n",
      "\n",
      "See the caveats in the documentation: https://pandas.pydata.org/pandas-docs/stable/user_guide/indexing.html#returning-a-view-versus-a-copy\n",
      "  next_matches['Wk'] = next_matches['Wk'].fillna('')\n"
     ]
    }
   ],
   "source": [
    "next_matches['Score'] = next_matches['Score'].fillna('')\n",
    "next_matches = next_matches[next_matches['Score'] == '']\n",
    "next_matches['Wk'] = next_matches['Wk'].fillna('')\n",
    "next_matches = next_matches[next_matches['Wk'] != '']\n",
    "next_matches = next_matches[next_matches['Wk'] > last_matchweek]"
   ]
  },
  {
   "cell_type": "code",
   "execution_count": 212,
   "metadata": {},
   "outputs": [],
   "source": [
    "last_match_id = df[df['year'] == 2020]['match_id'].max()"
   ]
  },
  {
   "cell_type": "code",
   "execution_count": 213,
   "metadata": {},
   "outputs": [],
   "source": [
    "def make_dataset(interested_team, other_team, cols):\n",
    "    cols_to_use = [col for col in interested_team.columns if 'adversary' not in col]\n",
    "    \n",
    "    interested_team = interested_team[cols_to_use]\n",
    "    other_team = other_team[cols_to_use]\n",
    "    \n",
    "    other_team.columns = [col + '_adversary' if col not in ['result', 'match_id'] else col for col in interested_team.columns ]\n",
    "    \n",
    "    df = interested_team.merge(other_team, on='match_id')\n",
    "\n",
    "    return df[cols]\n",
    "    "
   ]
  },
  {
   "cell_type": "code",
   "execution_count": 214,
   "metadata": {},
   "outputs": [],
   "source": [
    "next_matchweek = df_teams['matchweek'].max() + 1"
   ]
  },
  {
   "cell_type": "code",
   "execution_count": 215,
   "metadata": {},
   "outputs": [],
   "source": [
    "if os.path.exists('../data/predictions.csv'):\n",
    "    predictions = pd.read_csv('../data/predictions.csv').reset_index(drop=True)\n",
    "else:\n",
    "    predictions = pd.DataFrame()"
   ]
  },
  {
   "cell_type": "code",
   "execution_count": 216,
   "metadata": {},
   "outputs": [
    {
     "name": "stdout",
     "output_type": "stream",
     "text": [
      "Rodada 16: Vasco da Gama 2 x 0 Fortaleza!\n",
      "Rodada 16: Ceará 2 x 0 São Paulo!\n",
      "Rodada 16: Palmeiras 1 x 1 Coritiba!\n",
      "Rodada 16: Grêmio 2 x 2 Botafogo (RJ)!\n",
      "Rodada 16: Santos 2 x 1 Atl Goianiense!\n",
      "Rodada 16: Atlético Mineiro 2 x 0 Fluminense!\n",
      "Rodada 16: Sport Recife 0 x 1 Internacional!\n",
      "Rodada 16: Atl Paranaense 1 x 1 Corinthians!\n",
      "Rodada 16: Flamengo 0 x 2 Bragantino!\n",
      "Rodada 16: Goiás 1 x 2 Bahia!\n"
     ]
    }
   ],
   "source": [
    "for next_match in next_matches.iterrows():\n",
    "    try:\n",
    "        next_match = next_match[1].to_frame().transpose()\n",
    "        team1, team2 = next_match[['Home', 'Away']].iloc[0]\n",
    "        date = pd.to_datetime(next_match['Date'].iloc[0])\n",
    "        if next_match['Time'].iloc[0] is not np.nan:\n",
    "            time = int(next_match['Time'].iloc[0].split(':')[0])\n",
    "        else:\n",
    "            time = np.nan\n",
    "            \n",
    "        matchweek = int(next_match['Wk'].iloc[0])\n",
    "\n",
    "        if team1 not in team_dict.keys():\n",
    "            team_dict[team1] = max(team_dict.values()) + 1\n",
    "\n",
    "        if team2 not in team_dict.keys():\n",
    "            team_dict[team2] = max(team_dict.values()) + 1\n",
    "\n",
    "        if matchweek == next_matchweek:\n",
    "            cols = X_new.columns.tolist()\n",
    "            mean_features_team1 = df[(df['team'] == team1) & (df['year'] == 2020)].copy()\n",
    "            mean_features_team2 = df[(df['team'] == team2) & (df['year'] == 2020)].copy()\n",
    "\n",
    "            mean_features_team1['match_id'] = last_match_id + 1\n",
    "            mean_features_team2['match_id'] = last_match_id + 1\n",
    "            \n",
    "            mean_features_team1['time'] = mean_features_team1['time'].fillna(method='ffill')\n",
    "            mean_features_team2['time'] = mean_features_team2['time'].fillna(method='ffill')\n",
    "            \n",
    "            mean_features_team1['matchweek'] = int(matchweek)\n",
    "            mean_features_team2['matchweek'] = int(matchweek)\n",
    "\n",
    "            for col in df.columns:\n",
    "                if df[col].dtype != object and col not in ['score', 'match_id']:\n",
    "                    mean_features_team1[col] = mean_features_team1[col].shift(1).rolling(window=3).mean().copy()\n",
    "                    mean_features_team2[col] = mean_features_team2[col].shift(1).rolling(window=3).mean().copy()\n",
    "\n",
    "            mean_features_team1 = mean_features_team1.iloc[-1:].copy()\n",
    "            mean_features_team2 = mean_features_team2.iloc[-1:].copy()\n",
    "\n",
    "            mean_features_team1['is_home'] = 1\n",
    "            mean_features_team2['is_home'] = 0\n",
    "\n",
    "            mean_features_team1['team'] = team_dict[team1]\n",
    "            mean_features_team2['team'] = team_dict[team2]\n",
    "\n",
    "            dataset_team1 = make_dataset(mean_features_team1, mean_features_team2, cols).round(2)\n",
    "            dataset_team2 = make_dataset(mean_features_team2, mean_features_team1, cols).round(2)\n",
    "\n",
    "            game_prediction = dataset_team1.append(dataset_team2)\n",
    "            prediction = [round(prediction) for prediction in list(model.predict(game_prediction))]\n",
    "            print(f\"Rodada {matchweek}: {team1} {prediction[0]} x {prediction[1]} {team2}!\")\n",
    "            last_match_id += 1\n",
    "\n",
    "            predictions = predictions.append(pd.DataFrame({\n",
    "                'matchweek': [matchweek],\n",
    "                'team1': [team1],\n",
    "                'score_team1': [prediction[0]],\n",
    "                'team2': [team2],\n",
    "                'score_team2': [prediction[1]],\n",
    "            }))\n",
    "            \n",
    "    except Exception as e:\n",
    "        print(e)\n",
    "        pass"
   ]
  },
  {
   "cell_type": "code",
   "execution_count": 217,
   "metadata": {},
   "outputs": [],
   "source": [
    "# if predictions[predictions['matchweek'] == matchweek].shape[0] <= 10:\n",
    "predictions.reset_index(drop=True).to_csv('../data/predictions.csv', index=False)\n",
    "\n",
    "with open('../data/serial/xgboost_regressor.model', 'wb') as serial_model:\n",
    "    pickle.dump(model, serial_model)"
   ]
  },
  {
   "cell_type": "code",
   "execution_count": 218,
   "metadata": {},
   "outputs": [
    {
     "data": {
      "text/plain": [
       "<AxesSubplot:title={'center':'Feature importance'}, xlabel='F score', ylabel='Features'>"
      ]
     },
     "execution_count": 218,
     "metadata": {},
     "output_type": "execute_result"
    },
    {
     "data": {
      "image/png": "[encoded data removed]",
      "text/plain": [
       "<Figure size 432x288 with 1 Axes>"
      ]
     },
     "metadata": {
      "needs_background": "light"
     },
     "output_type": "display_data"
    }
   ],
   "source": [
    "from xgboost import plot_importance\n",
    "plot_importance(model, max_num_features=10)"
   ]
  }
 ],
 "metadata": {
  "kernelspec": {
   "display_name": "Python 3",
   "language": "python",
   "name": "python3"
  },
  "language_info": {
   "codemirror_mode": {
    "name": "ipython",
    "version": 3
   },
   "file_extension": ".py",
   "mimetype": "text/x-python",
   "name": "python",
   "nbconvert_exporter": "python",
   "pygments_lexer": "ipython3",
   "version": "3.8.0"
  }
 },
 "nbformat": 4,
 "nbformat_minor": 4
}
